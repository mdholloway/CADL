{
 "cells": [
  {
   "cell_type": "markdown",
   "metadata": {},
   "source": [
    "# Session 5: Generative Models\n",
    "\n",
    "<p class=\"lead\">\n",
    "<a href=\"https://www.kadenze.com/courses/creative-applications-of-deep-learning-with-tensorflow/info\">Creative Applications of Deep Learning with Google's Tensorflow</a><br />\n",
    "<a href=\"http://pkmital.com\">Parag K. Mital</a><br />\n",
    "<a href=\"https://www.kadenze.com\">Kadenze, Inc.</a>\n",
    "</p>\n",
    "\n",
    "<a name=\"learning-goals\"></a>\n",
    "## Learning Goals\n",
    "\n",
    "\n",
    "<!-- MarkdownTOC autolink=true autoanchor=true bracket=round -->\n",
    "\n",
    "- [Introduction](#introduction)\n",
    "- [Generative Adversarial Networks](#generative-adversarial-networks)\n",
    "    - [Input Pipelines](#input-pipelines)\n",
    "    - [GAN/DCGAN](#gandcgan)\n",
    "    - [Extensions](#extensions)\n",
    "- [Recurrent Networks](#recurrent-networks)\n",
    "    - [Basic RNN Cell](#basic-rnn-cell)\n",
    "    - [LSTM RNN Cell](#lstm-rnn-cell)\n",
    "    - [GRU RNN Cell](#gru-rnn-cell)\n",
    "- [Character Langauge Model](#character-langauge-model)\n",
    "    - [Setting up the Data](#setting-up-the-data)\n",
    "    - [Creating the Model](#creating-the-model)\n",
    "    - [Loss](#loss)\n",
    "    - [Clipping the Gradient](#clipping-the-gradient)\n",
    "    - [Training](#training)\n",
    "    - [Extensions](#extensions-1)\n",
    "- [DRAW Network](#draw-network)\n",
    "- [Future](#future)\n",
    "- [Homework](#homework)\n",
    "- [Examples](#examples)\n",
    "- [Reading](#reading)\n",
    "\n",
    "<!-- /MarkdownTOC -->"
   ]
  },
  {
   "cell_type": "code",
   "execution_count": 1,
   "metadata": {
    "collapsed": true
   },
   "outputs": [],
   "source": [
    "# First check the Python version\n",
    "import sys\n",
    "if sys.version_info < (3,4):\n",
    "    print('You are running an older version of Python!\\n\\n',\n",
    "          'You should consider updating to Python 3.4.0 or',\n",
    "          'higher as the libraries built for this course',\n",
    "          'have only been tested in Python 3.4 and higher.\\n')\n",
    "    print('Try installing the Python 3.5 version of anaconda'\n",
    "          'and then restart `jupyter notebook`:\\n',\n",
    "          'https://www.continuum.io/downloads\\n\\n')\n",
    "\n",
    "# Now get necessary libraries\n",
    "try:\n",
    "    import os\n",
    "    import numpy as np\n",
    "    import matplotlib.pyplot as plt\n",
    "    from skimage.transform import resize\n",
    "    from skimage import data\n",
    "    from scipy.misc import imresize\n",
    "    from scipy.ndimage.filters import gaussian_filter\n",
    "    import IPython.display as ipyd\n",
    "    import tensorflow as tf\n",
    "    from libs import utils, gif, datasets, dataset_utils, nb_utils\n",
    "except ImportError as e:\n",
    "    print(\"Make sure you have started notebook in the same directory\",\n",
    "          \"as the provided zip file which includes the 'libs' folder\",\n",
    "          \"and the file 'utils.py' inside of it.  You will NOT be able\",\n",
    "          \"to complete this assignment unless you restart jupyter\",\n",
    "          \"notebook inside the directory created by extracting\",\n",
    "          \"the zip file or cloning the github repo.\")\n",
    "    print(e)\n",
    "\n",
    "# We'll tell matplotlib to inline any drawn figures like so:\n",
    "%matplotlib inline\n",
    "plt.style.use('ggplot')"
   ]
  },
  {
   "cell_type": "code",
   "execution_count": 2,
   "metadata": {},
   "outputs": [
    {
     "data": {
      "text/html": [
       "<style> .rendered_html code { \n",
       "    padding: 2px 4px;\n",
       "    color: #c7254e;\n",
       "    background-color: #f9f2f4;\n",
       "    border-radius: 4px;\n",
       "} </style>"
      ],
      "text/plain": [
       "<IPython.core.display.HTML object>"
      ]
     },
     "execution_count": 2,
     "metadata": {},
     "output_type": "execute_result"
    }
   ],
   "source": [
    "# Bit of formatting because I don't like the default inline code style:\n",
    "from IPython.core.display import HTML\n",
    "HTML(\"\"\"<style> .rendered_html code { \n",
    "    padding: 2px 4px;\n",
    "    color: #c7254e;\n",
    "    background-color: #f9f2f4;\n",
    "    border-radius: 4px;\n",
    "} </style>\"\"\")"
   ]
  },
  {
   "cell_type": "markdown",
   "metadata": {},
   "source": [
    "<a name=\"introduction\"></a>\n",
    "# Introduction\n",
    "\n",
    "So far we've seen the basics of neural networks, how they can be used for encoding large datasets, or for predicting labels.  We've also seen how to interrogate the deeper representations that networks learn in order to help with their objective, and how amplifying some of these objectives led to creating deep dream.  Finally, we saw how the representations in deep nets trained on object recognition are capable of representing both style and content, and how we could independently manipulate a new image to have the style of one image, and the content of another.\n",
    "\n",
    "In this session we'll start to explore some more generative models.  We've already seen how an autoencoder is composed of both an encoder which takes an input and represents it into some hidden state vector.  From this hidden state vector, a decoder is capable of resynthesizing the original input, though with some loss.  So think back to the decoders that we've already built.  It has an internal state, and from that state, it can express the entire distribution of the original data, that is, it can express any possible image that is has seen.\n",
    "\n",
    "We call that a generative model as it is capable of generating the distribution of the data.  Contrast this to the latter half of Session 3 when we saw how we label an image using supervised learning.  This model is really trying to discriminate the data distribution based on the extra labels that we have.  So this is another helpful distinction with machine learning algorithms, ones that are generative and others that are discriminative.\n",
    "\n",
    "In this session, we'll explore more generative models, and states can be used to generate data in two other very powerful generative networks, one based on game theory called the generative adversarial network, and another capable of remembering and forgetting over time, allowing us to model dynamic content and sequences, called the recurrent neural network.\n",
    "\n",
    "<a name=\"generative-adversarial-networks\"></a>\n",
    "# Generative Adversarial Networks\n",
    "\n",
    "In session 3, we were briefly introduced to the Variational Autoencoder.  This network was very powerful because it encompasses a very strong idea.  And that idea is measuring distance not necessarily based on pixels, but in some \"semantic space\".  And I mentioned then that we'd see another type of network capable of generating even better images of CelebNet.\n",
    "\n",
    "So this is where we're heading...\n",
    "\n",
    "We're now going to see how to do that using what's called the generative adversarial network.\n",
    "\n",
    "The generative adversarial network is actually two networks.  One called the generator, and another called the discriminator.  The basic idea is the generator is trying to create things which look like the training data.  So for images, more images that look like the training data.  The discriminator has to guess whether what its given is a real training example.  Or whether its the output of the generator.  By training one after another, you ensure neither are ever too strong, but both grow stronger together.  The discriminator is also learning a distance function!  This is pretty cool because we no longer need to measure pixel-based distance, but we learn the distance function entirely!\n",
    "\n",
    "The Generative Adversarial Network, or GAN, for short, are in a way, very similar to the autoencoder we created in session 3.  Or at least the implementation of it is.  The discriminator is a lot like the encoder part of this network, except instead of going down to the 64 dimensions we used in our autoencoder, we'll reduce our input down to a single value, yes or no, 0 or 1, denoting yes its a true training example, or no, it's a generated one.\n",
    "\n",
    "And the generator network is exactly like the decoder of the autoencoder.  Except, there is nothing feeding into this inner layer.  It is just on its own.  From whatever vector of hidden values it starts off with, it will generate a new example meant to look just like the training data.  One pitfall of this model is there is no explicit encoding of an input.  Meaning, you can't take an input and find what would possibly generate it.  However, there are recent extensions to this model which make it more like the autoencoder framework, allowing it to do this.\n",
    "\n",
    "<a name=\"input-pipelines\"></a>\n",
    "## Input Pipelines\n",
    "\n",
    "Before we get started, we're going to need to work with a very large image dataset, the CelebNet dataset.  In session 1, we loaded this dataset but only grabbed the first 1000 images.  That's because loading all 200 thousand images would take up a lot of memory which we'd rather not have to do.  And in Session 3 we were introduced again to the CelebNet and Sita Sings the Blues which required us to load a lot of images.  I glossed over the details of the input pipeline then so we could focus on learning the basics of neural networks.  But I think now we're ready to see how to handle some larger datasets.\n",
    "\n",
    "Tensorflow provides operations for taking a list of files, using that list to load the data pointed to it, decoding that file's data as an image, and creating shuffled minibatches.  All of this is put into a queue and managed by queuerunners and coordinators.\n",
    "\n",
    "As you may have already seen in the Variational Autoencoder's code, I've provided a simple interface for creating such an input pipeline using image files which will also apply cropping and reshaping of images in the pipeline so you don't have to deal with any of it.  Let's see how we can use it to load the CelebNet dataset.\n",
    "\n",
    "\n",
    "Let's first get the list of all the CelebNet files:"
   ]
  },
  {
   "cell_type": "code",
   "execution_count": 4,
   "metadata": {},
   "outputs": [],
   "source": [
    "import tensorflow as tf\n",
    "from libs.datasets import CELEB\n",
    "files = CELEB()"
   ]
  },
  {
   "cell_type": "markdown",
   "metadata": {},
   "source": [
    "And then create our input pipeline to create shuffled minibatches and crop the images to a standard shape.  This will require us to specify the list of files, how large each minibatch is, how many epochs we want to run for, and how we want the images to be cropped."
   ]
  },
  {
   "cell_type": "code",
   "execution_count": 5,
   "metadata": {
    "collapsed": true
   },
   "outputs": [],
   "source": [
    "from libs.dataset_utils import create_input_pipeline\n",
    "batch_size = 100\n",
    "n_epochs = 10\n",
    "input_shape = [218, 178, 3]\n",
    "crop_shape = [64, 64, 3]\n",
    "crop_factor = 0.8\n",
    "batch = create_input_pipeline(\n",
    "    files=files,\n",
    "    batch_size=batch_size,\n",
    "    n_epochs=n_epochs,\n",
    "    crop_shape=crop_shape,\n",
    "    crop_factor=crop_factor,\n",
    "    shape=input_shape)"
   ]
  },
  {
   "cell_type": "markdown",
   "metadata": {},
   "source": [
    "Then when we are ready to use the batch generator, we'll need to create a `Coordinator` and specify this to tensorflow using the `start_queue_runners` method in order to provide the data:"
   ]
  },
  {
   "cell_type": "code",
   "execution_count": 6,
   "metadata": {
    "collapsed": true
   },
   "outputs": [],
   "source": [
    "sess = tf.Session()\n",
    "coord = tf.train.Coordinator()\n",
    "threads = tf.train.start_queue_runners(sess=sess, coord=coord)"
   ]
  },
  {
   "cell_type": "markdown",
   "metadata": {},
   "source": [
    "We can grab our data using our `batch` generator like so:"
   ]
  },
  {
   "cell_type": "code",
   "execution_count": 7,
   "metadata": {},
   "outputs": [
    {
     "name": "stdout",
     "output_type": "stream",
     "text": [
      "(100, 64, 64, 3)\n",
      "float32 255.0\n"
     ]
    },
    {
     "data": {
      "text/plain": [
       "<matplotlib.image.AxesImage at 0x115a6d6a0>"
      ]
     },
     "execution_count": 7,
     "metadata": {},
     "output_type": "execute_result"
    },
    {
     "data": {
      "image/png": "iVBORw0KGgoAAAANSUhEUgAAAP4AAAD8CAYAAABXXhlaAAAABHNCSVQICAgIfAhkiAAAAAlwSFlz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\n",
      "text/plain": [
       "<matplotlib.figure.Figure at 0x115963ef0>"
      ]
     },
     "metadata": {},
     "output_type": "display_data"
    }
   ],
   "source": [
    "batch_xs = sess.run(batch)\n",
    "# We get batch_size at a time, so 100\n",
    "print(batch_xs.shape)\n",
    "# The datatype is float32 since what is what we use in the tensorflow graph\n",
    "# And the max value still has the original image range from 0-255\n",
    "print(batch_xs.dtype, np.max(batch_xs))\n",
    "# So to plot it, we'll need to divide by 255.\n",
    "plt.imshow(batch_xs[0] / 255.0)"
   ]
  },
  {
   "cell_type": "markdown",
   "metadata": {},
   "source": [
    "Let's see how to make use of this while we train a generative adversarial network!\n",
    "\n",
    "<a name=\"gandcgan\"></a>\n",
    "## GAN/DCGAN\n",
    "\n",
    "Inside the libs directory, you'll find `gan.py` which shows how to create a generative adversarial network with or without convolution, and how to train it using the CelebNet dataset.  Let's step through the code and then I'll show you what it's capable of doing.\n",
    "\n",
    "-- Code demonstration not transcribed. -- \n",
    "\n",
    "<a name=\"extensions\"></a>\n",
    "## Extensions\n",
    "\n",
    "So it turns out there are a ton of very fun and interesting extensions when you have a model in this space.  It turns out that you can perform addition in the latent space.  I'll just show you Alec Radford's code base on github to show you what that looks like.\n",
    "\n",
    "<a name=\"recurrent-networks\"></a>\n",
    "# Recurrent Networks\n",
    "\n",
    "Up until now, all of the networks that we've learned and worked with really have no sense of time.  They are static.  They cannot remember sequences, nor can they understand order outside of the spatial dimensions we offer it.  Imagine for instance that we wanted a network capable of reading.  As input, it is given one letter at a time.  So let's say it were given the letters 'n', 'e', 't', 'w', 'o', 'r', and we wanted it to learn to output 'k'.   It would need to be able to reason about inputs it received before the last one it received, the letters before 'r'.  But it's not just letters.\n",
    "\n",
    "Consider the way we look at the world.  We don't simply download a high resolution image of the world in front of us.  We move our eyes.  Each fixation takes in new information and each of these together in sequence help us perceive and act.  That again is a sequential process.\n",
    "\n",
    "Recurrent neural networks let us reason about information over multiple timesteps.  They are able to encode what it has seen in the past as if it has a memory of its own.  It does this by basically creating one HUGE network that expands over time.  It can reason about the current timestep by conditioning on what it has already seen.  By giving it many sequences as batches, it can learn a distribution over sequences which can model the current timestep given the previous timesteps.  But in order for this to be practical, we specify at each timestep, or each time it views an input, that the weights in each new timestep cannot change.  We also include a new matrix, `H`, which reasons about the past timestep, connecting each new timestep.  For this reason, we can just think of recurrent networks as ones with loops in it.\n",
    "\n",
    "Other than that, they are exactly like every other network we've come across!  They will have an input and an output.  They'll need a loss or an objective function to optimize which will relate what we want the network to output for some given set of inputs.  And they'll be trained with gradient descent and backprop.\n",
    "\n",
    "<a name=\"basic-rnn-cell\"></a>\n",
    "## Basic RNN Cell\n",
    "\n",
    "The basic recurrent cell can be used in tensorflow as `tf.contrib.rnn.BasicRNNCell`.  Though for most complex sequences, especially longer sequences, this is almost never a good idea.  That is because the basic RNN cell does not do very well as time goes on.  To understand why this is, we'll have to learn a bit more about how backprop works.  When we perform backrprop, we're multiplying gradients from the output back to the input.  As the network gets deeper, there are more multiplications along the way from the output to the input.\n",
    "\n",
    "Same for recurrent networks.  Remember, their just like a normal feedforward network with each new timestep creating a new layer.  So if we're creating an infinitely deep network, what will happen to all our multiplications?  Well if the derivatives are all greater than 1, then they will very quickly grow to infinity.  And if they are less than 1, then they will very quickly grow to 0. That makes them very difficult to train in practice.  The problem is known in the literature as the exploding or vanishing gradient problem.  Luckily, we don't have to figure out how to solve it, because some very clever people have already come up with a solution, in 1997!, yea, what were you doing in 1997.  Probably not coming up with they called the long-short-term-memory, or LSTM.\n",
    "\n",
    "<a name=\"lstm-rnn-cell\"></a>\n",
    "## LSTM RNN Cell\n",
    "\n",
    "The mechanics of this are unforunately far beyond the scope of this course, but put simply, it uses a combinations of gating cells to control its contents and by having gates, it is able to block the flow of the gradient, avoiding too many multiplications during backprop.  For more details, I highly recommend reading: https://colah.github.io/posts/2015-08-Understanding-LSTMs/.\n",
    "\n",
    "In tensorflow, we can make use of this cell using `tf.contrib.rnn.LSTMCell`.\n",
    "\n",
    "<a name=\"gru-rnn-cell\"></a>\n",
    "## GRU RNN Cell\n",
    "\n",
    "One last cell type is worth mentioning, the gated recurrent unit, or GRU.  Again, beyond the scope of this class.  Just think of it as a simplifed version of the LSTM with 2 gates instead of 4, though that is not an accurate description.  In Tensorflow we can use this with `tf.contrib.rnn.GRUCell`.\n",
    "\n",
    "<a name=\"character-langauge-model\"></a>\n",
    "# Character Langauge Model\n",
    "\n",
    "We'll now try a fun application of recurrent networks where we try to model a corpus of text, one character at a time.  The basic idea is to take one character at a time and try to predict the next character in sequence.  Given enough sequences, the model is capable of generating entirely new sequences all on its own.\n",
    "\n",
    "<a name=\"setting-up-the-data\"></a>\n",
    "## Setting up the Data\n",
    "\n",
    "For data, we're going to start with text.  You can basically take any text file that is sufficiently long, as we'll need a lot of it, and try to use this.  This website seems like an interesting place to begin: http://textfiles.com/directory.html and project guttenberg https://www.gutenberg.org/browse/scores/top.  http://prize.hutter1.net/ also has a 50k euro reward for compressing wikipedia.  Let's try w/ Alice's Adventures in Wonderland by Lewis Carroll:"
   ]
  },
  {
   "cell_type": "code",
   "execution_count": 3,
   "metadata": {},
   "outputs": [
    {
     "name": "stdout",
     "output_type": "stream",
     "text": [
      "Using matplotlib backend: MacOSX\n",
      "Populating the interactive namespace from numpy and matplotlib\n"
     ]
    }
   ],
   "source": [
    "%pylab\n",
    "import tensorflow as tf\n",
    "from six.moves import urllib\n",
    "import ssl\n",
    "try:\n",
    "    ssl._create_default_https_context = ssl._create_unverified_context\n",
    "    f, _ = urllib.request.urlretrieve('https://www.gutenberg.org/cache/epub/11/pg11.txt', 'alice.txt')\n",
    "    with open(f, 'r') as fp:\n",
    "        txt = fp.read()\n",
    "except:\n",
    "    with open('alice.txt', 'r') as fp:\n",
    "        txt = fp.read()"
   ]
  },
  {
   "cell_type": "markdown",
   "metadata": {},
   "source": [
    "And let's find out what's inside this text file by creating a set of all possible characters."
   ]
  },
  {
   "cell_type": "code",
   "execution_count": 4,
   "metadata": {},
   "outputs": [
    {
     "data": {
      "text/plain": [
       "(163780, 84)"
      ]
     },
     "execution_count": 4,
     "metadata": {},
     "output_type": "execute_result"
    }
   ],
   "source": [
    "vocab = list(set(txt))\n",
    "len(txt), len(vocab)"
   ]
  },
  {
   "cell_type": "markdown",
   "metadata": {},
   "source": [
    "Great so we now have about 164 thousand characters and 85 unique characters in our vocabulary which we can use to help us train a model of language.  Rather than use the characters, we'll convert each character to a unique integer.  We'll later see that when we work with words, we can achieve a similar goal using a very popular model called word2vec: https://www.tensorflow.org/versions/r0.9/tutorials/word2vec/index.html\n",
    "\n",
    "We'll first create a look up table which will map a character to an integer:"
   ]
  },
  {
   "cell_type": "code",
   "execution_count": 5,
   "metadata": {
    "collapsed": true
   },
   "outputs": [],
   "source": [
    "encoder = dict(zip(vocab, range(len(vocab))))\n",
    "decoder = dict(zip(range(len(vocab)), vocab))"
   ]
  },
  {
   "cell_type": "markdown",
   "metadata": {},
   "source": [
    "<a name=\"creating-the-model\"></a>\n",
    "## Creating the Model\n",
    "\n",
    "For our model, we'll need to define a few parameters."
   ]
  },
  {
   "cell_type": "code",
   "execution_count": 6,
   "metadata": {},
   "outputs": [],
   "source": [
    "# Number of sequences in a mini batch\n",
    "batch_size = 100\n",
    "\n",
    "# Number of characters in a sequence\n",
    "sequence_length = 100\n",
    "\n",
    "# Number of cells in our LSTM layer\n",
    "n_cells = 256\n",
    "\n",
    "# Number of LSTM layers\n",
    "n_layers = 2\n",
    "\n",
    "# Total number of characters in the one-hot encoding\n",
    "n_chars = len(vocab)"
   ]
  },
  {
   "cell_type": "markdown",
   "metadata": {},
   "source": [
    "Now create the input and output to the network.  Rather than having `batch size` x `number of features`; or `batch size` x `height` x `width` x `channels`; we're going to have `batch size` x `sequence length`."
   ]
  },
  {
   "cell_type": "code",
   "execution_count": 7,
   "metadata": {
    "collapsed": true
   },
   "outputs": [],
   "source": [
    "X = tf.placeholder(tf.int32, [None, sequence_length], name='X')\n",
    "\n",
    "# We'll have a placeholder for our true outputs\n",
    "Y = tf.placeholder(tf.int32, [None, sequence_length], name='Y')"
   ]
  },
  {
   "cell_type": "markdown",
   "metadata": {},
   "source": [
    "Now remember with MNIST that we used a one-hot vector representation of our numbers.  We could transform our input data into such a representation.  But instead, we'll use `tf.nn.embedding_lookup` so that we don't need to compute the encoded vector.  Let's see how this works:"
   ]
  },
  {
   "cell_type": "code",
   "execution_count": 8,
   "metadata": {},
   "outputs": [
    {
     "name": "stdout",
     "output_type": "stream",
     "text": [
      "[None, 100, 256]\n"
     ]
    }
   ],
   "source": [
    "# we first create a variable to take us from our one-hot representation to our LSTM cells\n",
    "embedding = tf.get_variable(\"embedding\", [n_chars, n_cells])\n",
    "\n",
    "# And then use tensorflow's embedding lookup to look up the ids in X\n",
    "Xs = tf.nn.embedding_lookup(embedding, X)\n",
    "\n",
    "# The resulting lookups are concatenated into a dense tensor\n",
    "print(Xs.get_shape().as_list())"
   ]
  },
  {
   "cell_type": "markdown",
   "metadata": {},
   "source": [
    "To create a recurrent network, we're going to need to slice our sequences into individual inputs.  That will give us timestep lists which are each `batch_size` x `input_size`.  Each character will then be connected to a recurrent layer composed of `n_cells` LSTM units."
   ]
  },
  {
   "cell_type": "code",
   "execution_count": 9,
   "metadata": {},
   "outputs": [
    {
     "ename": "TypeError",
     "evalue": "Input 'split_dim' of 'Split' Op has type float32 that does not match expected type of int32.",
     "output_type": "error",
     "traceback": [
      "\u001b[0;31m---------------------------------------------------------------------------\u001b[0m",
      "\u001b[0;31mValueError\u001b[0m                                Traceback (most recent call last)",
      "\u001b[0;32m/usr/local/lib/python3.6/site-packages/tensorflow/python/framework/op_def_library.py\u001b[0m in \u001b[0;36mapply_op\u001b[0;34m(self, op_type_name, name, **keywords)\u001b[0m\n\u001b[1;32m    490\u001b[0m                 \u001b[0mas_ref\u001b[0m\u001b[0;34m=\u001b[0m\u001b[0minput_arg\u001b[0m\u001b[0;34m.\u001b[0m\u001b[0mis_ref\u001b[0m\u001b[0;34m,\u001b[0m\u001b[0;34m\u001b[0m\u001b[0m\n\u001b[0;32m--> 491\u001b[0;31m                 preferred_dtype=default_dtype)\n\u001b[0m\u001b[1;32m    492\u001b[0m           \u001b[0;32mexcept\u001b[0m \u001b[0mTypeError\u001b[0m \u001b[0;32mas\u001b[0m \u001b[0merr\u001b[0m\u001b[0;34m:\u001b[0m\u001b[0;34m\u001b[0m\u001b[0m\n",
      "\u001b[0;32m/usr/local/lib/python3.6/site-packages/tensorflow/python/framework/ops.py\u001b[0m in \u001b[0;36minternal_convert_to_tensor\u001b[0;34m(value, dtype, name, as_ref, preferred_dtype)\u001b[0m\n\u001b[1;32m    703\u001b[0m         \u001b[0;32mif\u001b[0m \u001b[0mret\u001b[0m \u001b[0;32mis\u001b[0m \u001b[0;32mNone\u001b[0m\u001b[0;34m:\u001b[0m\u001b[0;34m\u001b[0m\u001b[0m\n\u001b[0;32m--> 704\u001b[0;31m           \u001b[0mret\u001b[0m \u001b[0;34m=\u001b[0m \u001b[0mconversion_func\u001b[0m\u001b[0;34m(\u001b[0m\u001b[0mvalue\u001b[0m\u001b[0;34m,\u001b[0m \u001b[0mdtype\u001b[0m\u001b[0;34m=\u001b[0m\u001b[0mdtype\u001b[0m\u001b[0;34m,\u001b[0m \u001b[0mname\u001b[0m\u001b[0;34m=\u001b[0m\u001b[0mname\u001b[0m\u001b[0;34m,\u001b[0m \u001b[0mas_ref\u001b[0m\u001b[0;34m=\u001b[0m\u001b[0mas_ref\u001b[0m\u001b[0;34m)\u001b[0m\u001b[0;34m\u001b[0m\u001b[0m\n\u001b[0m\u001b[1;32m    705\u001b[0m \u001b[0;34m\u001b[0m\u001b[0m\n",
      "\u001b[0;32m/usr/local/lib/python3.6/site-packages/tensorflow/python/framework/ops.py\u001b[0m in \u001b[0;36m_TensorTensorConversionFunction\u001b[0;34m(t, dtype, name, as_ref)\u001b[0m\n\u001b[1;32m    576\u001b[0m         \u001b[0;34m\"Tensor conversion requested dtype %s for Tensor with dtype %s: %r\"\u001b[0m\u001b[0;34m\u001b[0m\u001b[0m\n\u001b[0;32m--> 577\u001b[0;31m         % (dtype.name, t.dtype.name, str(t)))\n\u001b[0m\u001b[1;32m    578\u001b[0m   \u001b[0;32mreturn\u001b[0m \u001b[0mt\u001b[0m\u001b[0;34m\u001b[0m\u001b[0m\n",
      "\u001b[0;31mValueError\u001b[0m: Tensor conversion requested dtype int32 for Tensor with dtype float32: 'Tensor(\"embedding_lookup:0\", shape=(?, 100, 256), dtype=float32)'",
      "\nDuring handling of the above exception, another exception occurred:\n",
      "\u001b[0;31mTypeError\u001b[0m                                 Traceback (most recent call last)",
      "\u001b[0;32m<ipython-input-9-68559823328a>\u001b[0m in \u001b[0;36m<module>\u001b[0;34m()\u001b[0m\n\u001b[1;32m      2\u001b[0m \u001b[0;32mwith\u001b[0m \u001b[0mtf\u001b[0m\u001b[0;34m.\u001b[0m\u001b[0mname_scope\u001b[0m\u001b[0;34m(\u001b[0m\u001b[0;34m'reslice'\u001b[0m\u001b[0;34m)\u001b[0m\u001b[0;34m:\u001b[0m\u001b[0;34m\u001b[0m\u001b[0m\n\u001b[1;32m      3\u001b[0m     Xs = [tf.squeeze(seq, [1])\n\u001b[0;32m----> 4\u001b[0;31m           for seq in tf.split(1, sequence_length, Xs)]\n\u001b[0m",
      "\u001b[0;32m/usr/local/lib/python3.6/site-packages/tensorflow/python/ops/array_ops.py\u001b[0m in \u001b[0;36msplit\u001b[0;34m(value, num_or_size_splits, axis, num, name)\u001b[0m\n\u001b[1;32m   1196\u001b[0m   \u001b[0;32mif\u001b[0m \u001b[0misinstance\u001b[0m\u001b[0;34m(\u001b[0m\u001b[0mnum_or_size_splits\u001b[0m\u001b[0;34m,\u001b[0m \u001b[0msix\u001b[0m\u001b[0;34m.\u001b[0m\u001b[0minteger_types\u001b[0m\u001b[0;34m)\u001b[0m\u001b[0;34m:\u001b[0m\u001b[0;34m\u001b[0m\u001b[0m\n\u001b[1;32m   1197\u001b[0m     return gen_array_ops._split(\n\u001b[0;32m-> 1198\u001b[0;31m         split_dim=axis, num_split=num_or_size_splits, value=value, name=name)\n\u001b[0m\u001b[1;32m   1199\u001b[0m   \u001b[0;32melse\u001b[0m\u001b[0;34m:\u001b[0m\u001b[0;34m\u001b[0m\u001b[0m\n\u001b[1;32m   1200\u001b[0m     \u001b[0msize_splits\u001b[0m \u001b[0;34m=\u001b[0m \u001b[0mops\u001b[0m\u001b[0;34m.\u001b[0m\u001b[0mconvert_to_tensor\u001b[0m\u001b[0;34m(\u001b[0m\u001b[0mnum_or_size_splits\u001b[0m\u001b[0;34m)\u001b[0m\u001b[0;34m\u001b[0m\u001b[0m\n",
      "\u001b[0;32m/usr/local/lib/python3.6/site-packages/tensorflow/python/ops/gen_array_ops.py\u001b[0m in \u001b[0;36m_split\u001b[0;34m(split_dim, value, num_split, name)\u001b[0m\n\u001b[1;32m   3304\u001b[0m   \"\"\"\n\u001b[1;32m   3305\u001b[0m   result = _op_def_lib.apply_op(\"Split\", split_dim=split_dim, value=value,\n\u001b[0;32m-> 3306\u001b[0;31m                                 num_split=num_split, name=name)\n\u001b[0m\u001b[1;32m   3307\u001b[0m   \u001b[0;32mreturn\u001b[0m \u001b[0mresult\u001b[0m\u001b[0;34m\u001b[0m\u001b[0m\n\u001b[1;32m   3308\u001b[0m \u001b[0;34m\u001b[0m\u001b[0m\n",
      "\u001b[0;32m/usr/local/lib/python3.6/site-packages/tensorflow/python/framework/op_def_library.py\u001b[0m in \u001b[0;36mapply_op\u001b[0;34m(self, op_type_name, name, **keywords)\u001b[0m\n\u001b[1;32m    512\u001b[0m             \u001b[0;32mif\u001b[0m \u001b[0minput_arg\u001b[0m\u001b[0;34m.\u001b[0m\u001b[0mtype\u001b[0m \u001b[0;34m!=\u001b[0m \u001b[0mtypes_pb2\u001b[0m\u001b[0;34m.\u001b[0m\u001b[0mDT_INVALID\u001b[0m\u001b[0;34m:\u001b[0m\u001b[0;34m\u001b[0m\u001b[0m\n\u001b[1;32m    513\u001b[0m               raise TypeError(\"%s expected type of %s.\" %\n\u001b[0;32m--> 514\u001b[0;31m                               (prefix, dtypes.as_dtype(input_arg.type).name))\n\u001b[0m\u001b[1;32m    515\u001b[0m             \u001b[0;32melse\u001b[0m\u001b[0;34m:\u001b[0m\u001b[0;34m\u001b[0m\u001b[0m\n\u001b[1;32m    516\u001b[0m               \u001b[0;31m# Update the maps with the default, if needed.\u001b[0m\u001b[0;34m\u001b[0m\u001b[0;34m\u001b[0m\u001b[0m\n",
      "\u001b[0;31mTypeError\u001b[0m: Input 'split_dim' of 'Split' Op has type float32 that does not match expected type of int32."
     ]
    }
   ],
   "source": [
    "# Let's create a name scope for the operations to clean things up in our graph\n",
    "with tf.name_scope('reslice'):\n",
    "    Xs = [tf.squeeze(seq, [1])\n",
    "          for seq in tf.split(Xs, sequence_length, axis=1)]"
   ]
  },
  {
   "cell_type": "markdown",
   "metadata": {},
   "source": [
    "Now we'll create our recurrent layer composed of LSTM cells."
   ]
  },
  {
   "cell_type": "code",
   "execution_count": 14,
   "metadata": {
    "collapsed": true
   },
   "outputs": [],
   "source": [
    "cells = tf.contrib.rnn.BasicLSTMCell(num_units=n_cells)"
   ]
  },
  {
   "cell_type": "markdown",
   "metadata": {},
   "source": [
    "We'll initialize our LSTMs using the convenience method provided by tensorflow.  We could explicitly define the batch size here or use the `tf.shape` method to compute it based on whatever `X` is, letting us feed in different sizes into the graph."
   ]
  },
  {
   "cell_type": "code",
   "execution_count": 15,
   "metadata": {
    "collapsed": true
   },
   "outputs": [],
   "source": [
    "initial_state = cells.zero_state(tf.shape(X)[0], tf.float32)"
   ]
  },
  {
   "cell_type": "markdown",
   "metadata": {},
   "source": [
    "Great now we have a layer of recurrent cells and a way to initialize them.  If we wanted to make this a multi-layer recurrent network, we could use the `MultiRNNCell` like so:"
   ]
  },
  {
   "cell_type": "code",
   "execution_count": 16,
   "metadata": {
    "collapsed": true
   },
   "outputs": [],
   "source": [
    "# Build deeper recurrent net if using more than 1 layer\n",
    "if n_layers > 1:\n",
    "    cells = [cells]\n",
    "    for layer_i in range(1, n_layers):\n",
    "        with tf.variable_scope('{}'.format(layer_i)):\n",
    "            this_cell = tf.contrib.rnn.BasicLSTMCell(\n",
    "                num_units=n_cells)\n",
    "            cells.append(this_cell)\n",
    "    cells = tf.contrib.rnn.MultiRNNCell(cells)\n",
    "    initial_state = cells.zero_state(tf.shape(X)[0], tf.float32)"
   ]
  },
  {
   "cell_type": "markdown",
   "metadata": {},
   "source": [
    "In either case, the cells are composed of their outputs as modulated by the LSTM's output gate, and whatever is currently stored in its memory contents.  Now let's connect our input to it."
   ]
  },
  {
   "cell_type": "code",
   "execution_count": 17,
   "metadata": {
    "collapsed": true
   },
   "outputs": [],
   "source": [
    "# this will return us a list of outputs of every element in our sequence.\n",
    "# Each output is `batch_size` x `n_cells` of output.\n",
    "# It will also return the state as a tuple of the n_cells's memory and\n",
    "# their output to connect to the time we use the recurrent layer.\n",
    "outputs, state = tf.contrib.rnn.static_rnn(cells, Xs, initial_state=initial_state)\n",
    "\n",
    "# We'll now stack all our outputs for every cell\n",
    "outputs_flat = tf.reshape(tf.concat(outputs, axis=1), [-1, n_cells])"
   ]
  },
  {
   "cell_type": "markdown",
   "metadata": {},
   "source": [
    "For our output, we'll simply try to predict the very next timestep.  So if our input sequence was \"networ\", our output sequence should be: \"etwork\".  This will give us the same batch size coming out, and the same number of elements as our input sequence."
   ]
  },
  {
   "cell_type": "code",
   "execution_count": 18,
   "metadata": {},
   "outputs": [],
   "source": [
    "with tf.variable_scope('prediction'):\n",
    "    W = tf.get_variable(\n",
    "        \"W\",\n",
    "        shape=[n_cells, n_chars],\n",
    "        initializer=tf.random_normal_initializer(stddev=0.1))\n",
    "    b = tf.get_variable(\n",
    "        \"b\",\n",
    "        shape=[n_chars],\n",
    "        initializer=tf.random_normal_initializer(stddev=0.1))\n",
    "\n",
    "    # Find the output prediction of every single character in our minibatch\n",
    "    # we denote the pre-activation prediction, logits.\n",
    "    logits = tf.matmul(outputs_flat, W) + b\n",
    "\n",
    "    # We get the probabilistic version by calculating the softmax of this\n",
    "    probs = tf.nn.softmax(logits)\n",
    "\n",
    "    # And then we can find the index of maximum probability\n",
    "    Y_pred = tf.argmax(probs, axis=1)"
   ]
  },
  {
   "cell_type": "markdown",
   "metadata": {},
   "source": [
    "<a name=\"loss\"></a>\n",
    "## Loss\n",
    "\n",
    "Our loss function will take the reshaped predictions and targets, and compute the softmax cross entropy."
   ]
  },
  {
   "cell_type": "code",
   "execution_count": 19,
   "metadata": {
    "collapsed": true
   },
   "outputs": [],
   "source": [
    "with tf.variable_scope('loss'):\n",
    "    # Compute mean cross entropy loss for each output.\n",
    "    Y_true_flat = tf.reshape(tf.concat(Y, axis=1), [-1])\n",
    "    loss = tf.nn.sparse_softmax_cross_entropy_with_logits(logits, Y_true_flat)\n",
    "    mean_loss = tf.reduce_mean(loss)"
   ]
  },
  {
   "cell_type": "markdown",
   "metadata": {},
   "source": [
    "<a name=\"clipping-the-gradient\"></a>\n",
    "## Clipping the Gradient\n",
    "\n",
    "Normally, we would just create an optimizer, give it a learning rate, and tell it to minize our loss.  But with recurrent networks, we can help out a bit by telling it to clip gradients.  That helps with the exploding gradient problem, ensureing they can't get any bigger than the value we tell it.  We can do that in tensorflow by iterating over every gradient and variable, and changing their value before we apply their update to every trainable variable."
   ]
  },
  {
   "cell_type": "code",
   "execution_count": 20,
   "metadata": {
    "collapsed": true
   },
   "outputs": [],
   "source": [
    "with tf.name_scope('optimizer'):\n",
    "    optimizer = tf.train.AdamOptimizer(learning_rate=0.001)\n",
    "    gradients = []\n",
    "    clip = tf.constant(5.0, name=\"clip\")\n",
    "    for grad, var in optimizer.compute_gradients(mean_loss):\n",
    "        gradients.append((tf.clip_by_value(grad, -clip, clip), var))\n",
    "    updates = optimizer.apply_gradients(gradients)"
   ]
  },
  {
   "cell_type": "markdown",
   "metadata": {},
   "source": [
    "We could also explore other methods of clipping the gradient based on a percentile of the norm of activations or other similar methods, like when we explored deep dream regularization.  But the LSTM has been built to help regularize the network through its own gating mechanisms, so this may not be the best idea for your problem.  Really, the only way to know is to try different approaches and see how it effects the output on your problem.\n",
    "\n",
    "<a name=\"training\"></a>\n",
    "## Training"
   ]
  },
  {
   "cell_type": "code",
   "execution_count": null,
   "metadata": {
    "collapsed": false,
    "scrolled": true
   },
   "outputs": [
    {
     "name": "stdout",
     "output_type": "stream",
     "text": [
      "0 4.42897\n",
      "['::::::::::::                                                                                        :::::::::::::::::::                                                                                 :::::::::::::::                                                                                     :::::::::             :::::::::                                                                     ::::::::::::::::::         ::::::                                                                   :::::::::::::::::::                 ::::::::::       :::::::::::::::::::::::::::::::::::::::::::::  ::::::::::::::::::::::::::::::::::::::::::                :::::::: ::::::::::::: ::::::::           :::::::::::::::::::::::::                                                                           :::::::::::::::::                                                                                   ::::::::::::                                                                                        ::::::::::::::                                                                                      :::::::::                                                                                           ::::::::::::                                                                                        ::::::::::::::::::                                                                                  ::::::::::::                                                                                        ::::::::::::                                                                                        ::::::::::                                                                                 :::::::: :::::::::                                                                                           ::::::::::::                                                                                        ::::::::::::::::::::::::::                                                                          ::::::::                                                                                            :::::::::::::::::: ::                                                                               ::::::::::::::::                                                                                    ::::::::::                                                                                          :::::::::::                                                                                         :::::::::                                                                                           :::::::::::::                                                                                       :::::::                                                                                             ::::::::::::::  :                                                                                   :::::::::::::::                                                                                     ::::::::::::::::::                                                                                  :::::::::::                                                                                         ::::::::::::::::                                                                                    :::::::::::::                                                                                       :::::::::                                                                                           ::::::::::                                                                                          :::::::::::                                                                                         :::::::::::                                                                                         :::::::::::::                                                                                       :::::::::::                                                                                         ::::::::::                                                                                          :::::::::::::::                                                                                     ::::::::::                                                                                          ::::::::::                                                                                          ::::::::::::::::::                                                                                  ::::::::::            :::::::::::::::::::                                                           ::::::::::                                                                                          ::::::::::::                                                                                        :::::::::::::::                                                                                     ::::::::::::::::                                                                                    :::::::::::                                                                                         ::::::::::::                                                                                        :::::::::::::                                                                                       ::::::::::                                                                                          ::::::::::::                                                                                        ::::::::::                                                                                          ::::::::                                                                                            :::::::::::::                                                                                       :::::::::                                                                                           :::::::::::::::                                                                                     :::::::::::                                                                                         ::::::::::::::                                                                                      :::::::::::::::                                                                                     :::::::::::                                                                                         ::::::::::::                                                                                        ::::::::::                                                                                          :::::::::::::                                                                                       :::::::::::                                                                                         ::::::::::::::                                                                                      :::::::::                                                                                           ::::::::::::::                                                                                      ::::::::                                                                                            ::::::::::                                                                                          :::::::::                                                                                           :::::::::::                                                                                         :::::::::::::                                                                                       ::::::::::                                                                                          ::::::::::::                                                                                        ::::::::::::::::::                                                                                  ::::::::::::::::                                                                                    :::::::::::::::                                                                                     :::::::::::::                                                                                       :::::::::::                                                                                         ::::::::::                                                                                          ::::::::::::::                                                                                      :::::::::                                                                                           ::::::::::::                                                                                        :::::::::::                                                                                         ::::::::::::::                                                                                      :::::::::::::                                                                                       :::::::::                                                                                           ::::::::::::::::                                                                                    ::::::                                                                                              :::::::::::::::::                                                                                   ::::::::::::::::                                                                                    :::::::::::::::::                                                                                   ::::::::::::                                                                                        ::::::::::                                                                                          :::::::::::                                                                                         :::::::::::::                                                                                       ']\n",
      "1 4.29416\n",
      "2 4.01592\n",
      "3 3.94037\n",
      "4 3.68576\n",
      "5 3.54032\n",
      "6 3.48778\n",
      "7 3.42691\n",
      "8 3.36093\n",
      "9 3.27056\n",
      "10 3.34095\n",
      "11 3.3273\n",
      "12 3.24358\n",
      "13 3.27554\n",
      "14 3.34986\n",
      "15 3.45718\n",
      "16 3.32603\n",
      "17 3.17021\n",
      "18 3.20517\n",
      "19 3.15531\n",
      "20 3.19557\n",
      "21 3.20712\n",
      "22 3.16161\n",
      "23 3.17383\n",
      "24 3.22278\n",
      "25 3.16482\n",
      "26 3.16158\n",
      "27 3.23769\n",
      "28 3.2067\n",
      "29 3.19568\n",
      "30 3.23815\n",
      "31 3.34098\n",
      "32 3.43296\n",
      "33 3.13395\n",
      "34 3.1483\n",
      "35 3.14825\n",
      "36 3.15908\n",
      "37 3.14256\n",
      "38 3.10355\n",
      "39 3.11908\n",
      "40 3.17643\n",
      "41 3.13053\n",
      "42 3.08703\n",
      "43 3.17593\n",
      "44 3.17554\n",
      "45 3.08877\n",
      "46 3.15102\n",
      "47 3.22627\n",
      "48 3.38308\n",
      "49 3.13057\n",
      "50 3.07684\n",
      "51 3.05747\n",
      "52 3.06813\n",
      "53 3.06916\n",
      "54 3.03988\n",
      "55 2.98777\n",
      "56 3.04444\n",
      "57 3.01002\n",
      "58 2.94353\n",
      "59 3.00076\n",
      "60 3.04803\n",
      "61 2.97026\n",
      "62 2.98081\n",
      "63 3.07963\n",
      "64 3.2694\n",
      "65 3.12192\n",
      "66 2.92821\n",
      "67 2.90686\n",
      "68 2.95095\n",
      "69 2.87229\n",
      "70 2.93104\n",
      "71 2.84785\n",
      "72 2.82925\n",
      "73 2.86268\n",
      "74 2.79739\n",
      "75 2.7674\n",
      "76 2.86816\n",
      "77 2.84446\n",
      "78 2.75096\n",
      "79 2.85054\n",
      "80 3.03079\n",
      "81 3.20847\n",
      "82 2.75199\n",
      "83 2.76756\n",
      "84 2.81007\n",
      "85 2.7587\n",
      "86 2.72682\n",
      "87 2.68196\n",
      "88 2.68356\n",
      "89 2.69756\n",
      "90 2.65099\n",
      "91 2.5969\n",
      "92 2.67706\n",
      "93 2.69067\n",
      "94 2.6068\n",
      "95 2.67556\n",
      "96 2.80283\n",
      "97 3.07653\n",
      "98 2.70812\n",
      "99 2.65329\n",
      "100 2.57471\n",
      "101 2.63132\n",
      "102 2.59672\n",
      "103 2.61568\n",
      "104 2.53156\n",
      "105 2.53745\n",
      "106 2.53544\n",
      "107 2.48242\n",
      "108 2.51577\n",
      "109 2.57348\n",
      "110 2.54377\n",
      "111 2.49769\n",
      "112 2.65663\n",
      "113 2.86229\n",
      "114 2.78507\n",
      "115 2.50917\n",
      "116 2.49752\n",
      "117 2.53539\n",
      "118 2.49931\n",
      "119 2.51232\n",
      "120 2.4482\n",
      "121 2.44573\n",
      "122 2.45499\n",
      "123 2.43388\n",
      "124 2.39665\n",
      "125 2.48074\n",
      "126 2.48373\n",
      "127 2.38172\n",
      "128 2.42612\n",
      "129 2.73864\n",
      "130 2.85888\n",
      "131 2.42638\n",
      "132 2.44263\n",
      "133 2.44355\n",
      "134 2.44984\n",
      "135 2.43694\n",
      "136 2.38818\n",
      "137 2.37522\n",
      "138 2.38028\n",
      "139 2.36209\n",
      "140 2.32181\n",
      "141 2.38884\n",
      "142 2.39409\n",
      "143 2.35439\n",
      "144 2.37062\n",
      "145 2.51806\n",
      "146 2.78372\n",
      "147 2.49308\n",
      "148 2.37642\n",
      "149 2.35171\n",
      "150 2.34545\n",
      "151 2.36046\n",
      "152 2.35849\n",
      "153 2.31023\n",
      "154 2.2793\n",
      "155 2.31611\n",
      "156 2.27919\n",
      "157 2.27604\n",
      "158 2.33813\n",
      "159 2.32894\n"
     ]
    }
   ],
   "source": [
    "sess = tf.Session()\n",
    "init = tf.global_variables_initializer()\n",
    "sess.run(init)\n",
    "\n",
    "cursor = 0\n",
    "it_i = 0\n",
    "while True:\n",
    "    Xs, Ys = [], []\n",
    "    for batch_i in range(batch_size):\n",
    "        if (cursor + sequence_length) >= len(txt) - sequence_length - 1:\n",
    "            cursor = 0\n",
    "        Xs.append([encoder[ch]\n",
    "                   for ch in txt[cursor:cursor + sequence_length]])\n",
    "        Ys.append([encoder[ch]\n",
    "                   for ch in txt[cursor + 1: cursor + sequence_length + 1]])\n",
    "\n",
    "        cursor = (cursor + sequence_length)\n",
    "    Xs = np.array(Xs).astype(np.int32)\n",
    "    Ys = np.array(Ys).astype(np.int32)\n",
    "\n",
    "    loss_val, _ = sess.run([mean_loss, updates],\n",
    "                           feed_dict={X: Xs, Y: Ys})\n",
    "    print(it_i, loss_val)\n",
    "\n",
    "    if it_i % 500 == 0:\n",
    "        p = sess.run([Y_pred], feed_dict={X: Xs})[0]\n",
    "        preds = [decoder[p_i] for p_i in p]\n",
    "        print(\"\".join(preds).split('\\n'))\n",
    "\n",
    "    it_i += 1"
   ]
  },
  {
   "cell_type": "markdown",
   "metadata": {},
   "source": [
    "<a name=\"extensions-1\"></a>\n",
    "## Extensions\n",
    "\n",
    "There are also certainly a lot of additions we can add to speed up or help with training including adding dropout or using batch normalization that I haven't gone into here.  Also when dealing with variable length sequences, you may want to consider using a special token to denote the last character or element in your sequence.\n",
    "\n",
    "As for applications, *completely endless*.  And I think that is really what makes this field so exciting right now.  There doesn't seem to be any limit to what is possible right now.  You are not just limited to text first of all.  You may want to feed in MIDI data to create a piece of algorithmic music.  I've tried it with raw sound data and this even works, but it requires a lot of memory and at least 30k iterations to run before it sounds like anything.  Or perhaps you might try some other unexpected text based information, such as encodings of image data like JPEG in base64.  Or other compressed data formats.  Or perhaps you are more adventurous and want to try using what you've learned here with the previous sessions to add recurrent layers to a traditional convolutional model.\n",
    "\n",
    "<a name=\"future\"></a>\n",
    "# Future\n",
    "\n",
    "If you're still here, then I'm really excited for you and to see what you'll create.  By now, you've seen most of the major building blocks with neural networks.  From here, you are only limited by the time it takes to train all of the interesting ideas you'll have.  But there is still so much more to discover, and it's very likely that this entire course is already out of date, because this field just moves incredibly fast.  In any case, the applications of these techniques are still fairly stagnant, so if you're here to see how your creative practice could grow with these techniques, then you should already have plenty to discover.\n",
    "\n",
    "I'm very excited about how the field is moving.  Often, it is very hard to find labels for a lot of data in a meaningful and consistent way.  But there is a lot of interesting stuff starting to emerge in the unsupervised models.  Those are the models that just take data in, and the computer reasons about it.  And even more interesting is the combination of general purpose learning algorithms.  That's really where reinforcement learning is starting to shine.  But that's for another course, perhaps.\n",
    "\n",
    "<a name=\"reading\"></a>\n",
    "# Reading\n",
    "\n",
    "Ian J. Goodfellow, Jean Pouget-Abadie, Mehdi Mirza, Bing Xu, David Warde-Farley, Sherjil Ozair, Aaron Courville, Yoshua Bengio. Generative Adversarial Networks. 2014.\n",
    "https://arxiv.org/abs/1406.2661\n",
    "\n",
    "Ian J. Goodfellow, Jonathon Shlens, Christian Szegedy.  Explaining and Harnessing Adversarial Examples.  2014.\n",
    "\n",
    "Alec Radford, Luke Metz, Soumith Chintala. Unsupervised Representation Learning with Deep Convolutional Generative Adversarial Networks. 2015.\n",
    "https://arxiv.org/abs/1511.06434\n",
    "\n",
    "Emily Denton, Soumith Chintala, Arthur Szlam, Rob Fergus. \n",
    "Deep Generative Image Models using a Laplacian Pyramid of Adversarial Networks. 2015.\n",
    "arxiv.org/abs/1506.05751\n",
    "\n",
    "Anders Boesen Lindbo Larsen, Søren Kaae Sønderby, Hugo Larochelle, Ole Winther. Autoencoding beyond pixels using a learned similarity metric. 2015.\n",
    "https://arxiv.org/abs/1512.09300\n",
    "\n",
    "Vincent Dumoulin, Ishmael Belghazi, Ben Poole, Alex Lamb, Martin Arjovsky, Olivier Mastropietro, Aaron Courville.  Adversarially Learned Inference.  2016.\n",
    "https://arxiv.org/abs/1606.00704\n",
    "\n",
    "Ilya Sutskever, James Martens, and Geoffrey Hinton. Generating Text with Recurrent Neural Networks, ICML 2011. \n",
    "\n",
    "A. Graves. Generating sequences with recurrent neural networks. In Arxiv preprint, arXiv:1308.0850, 2013.\n",
    "\n",
    "T. Mikolov, I. Sutskever, K. Chen, G. S. Corrado, and J. Dean. Distributed representations of words and phrases and their compositionality. In Advances in\n",
    "Neural Information Processing Systems, pages 3111–3119, 2013.\n",
    "\n",
    "J. Pennington, R. Socher, and C. D. Manning. Glove: Global vectors for word representation. Proceedings of the Empiricial Methods in Natural Language Processing (EMNLP 2014), 12, 2014.\n",
    "\n",
    "Yoon Kim, Yacine Jernite, David Sontag, Alexander M. Rush. Character-Aware Neural Language Models. 2015.\n",
    "https://arxiv.org/abs/1508.06615\n",
    "\n",
    "I. Sutskever, J. Martens, and G. Hinton. Generating text with recurrent neural networks. In L. Getoor and T. Scheffer, editors, Proceedings of the 28th International Conference on Machine Learning (ICML-11), ICML ’11, pages 1017–1024, New York, NY, USA, June 2011. ACM."
   ]
  }
 ],
 "metadata": {
  "kernelspec": {
   "display_name": "Python 3",
   "language": "python",
   "name": "python3"
<<<<<<< HEAD
  },
  "language_info": {
   "codemirror_mode": {
    "name": "ipython",
    "version": 3
   },
   "file_extension": ".py",
   "mimetype": "text/x-python",
   "name": "python",
   "nbconvert_exporter": "python",
   "pygments_lexer": "ipython3",
   "version": "3.6.0"
=======
>>>>>>> Commit my work so far...
  }
 },
 "nbformat": 4,
 "nbformat_minor": 1
}
